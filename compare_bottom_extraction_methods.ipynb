{
 "cells": [
  {
   "cell_type": "markdown",
   "metadata": {},
   "source": [
    "# AABW Bottom Age Plot\n",
    "\n",
    "Compare speed of different methods of extracting bottom age"
   ]
  },
  {
   "cell_type": "code",
   "execution_count": 25,
   "metadata": {},
   "outputs": [],
   "source": [
    "%matplotlib inline\n",
    "\n",
    "import matplotlib.pyplot as plt\n",
    "import xarray as xr\n",
    "import numpy as np\n",
    "import cartopy.crs as ccrs\n",
    "import matplotlib.path as mpath\n",
    "import cosima_cookbook as cc\n",
    "import cmocean.cm as cm\n",
    "\n",
    "import warnings\n",
    "warnings.filterwarnings('ignore')\n",
    "import logging\n",
    "logger = logging.getLogger()\n",
    "logger.setLevel(logging.CRITICAL)"
   ]
  },
  {
   "cell_type": "code",
   "execution_count": 2,
   "metadata": {},
   "outputs": [
    {
     "data": {
      "text/html": [
       "<table style=\"border: 2px solid white;\">\n",
       "<tr>\n",
       "<td style=\"vertical-align: top; border: 0px solid white\">\n",
       "<h3 style=\"text-align: left;\">Client</h3>\n",
       "<ul style=\"text-align: left; list-style: none; margin: 0; padding: 0;\">\n",
       "  <li><b>Scheduler: </b>tcp://127.0.0.1:34493</li>\n",
       "  <li><b>Dashboard: </b><a href='/proxy/8787/status' target='_blank'>/proxy/8787/status</a></li>\n",
       "</ul>\n",
       "</td>\n",
       "<td style=\"vertical-align: top; border: 0px solid white\">\n",
       "<h3 style=\"text-align: left;\">Cluster</h3>\n",
       "<ul style=\"text-align: left; list-style:none; margin: 0; padding: 0;\">\n",
       "  <li><b>Workers: </b>8</li>\n",
       "  <li><b>Cores: </b>48</li>\n",
       "  <li><b>Memory: </b>188.57 GiB</li>\n",
       "</ul>\n",
       "</td>\n",
       "</tr>\n",
       "</table>"
      ],
      "text/plain": [
       "<Client: 'tcp://127.0.0.1:34493' processes=8 threads=48, memory=188.57 GiB>"
      ]
     },
     "execution_count": 2,
     "metadata": {},
     "output_type": "execute_result"
    }
   ],
   "source": [
    "from dask.distributed import Client\n",
    "client = Client()\n",
    "client"
   ]
  },
  {
   "cell_type": "code",
   "execution_count": 13,
   "metadata": {},
   "outputs": [],
   "source": [
    "master_session = cc.database.create_session('/g/data/ik11/databases/cosima_master.db')\n",
    "expt = '01deg_jra55v13_ryf9091'\n",
    "\n",
    "start_time = '1950-01-01'\n",
    "end_time='1950-01-31'\n",
    "\n",
    "lat_slice  = slice(-80,-47)"
   ]
  },
  {
   "cell_type": "markdown",
   "metadata": {},
   "source": [
    "Now we want to get the age in the bottom cell, normalised by the simulation age."
   ]
  },
  {
   "cell_type": "code",
   "execution_count": 14,
   "metadata": {},
   "outputs": [],
   "source": [
    "# import age:\n",
    "age = cc.querying.getvar(expt,'age_global',master_session,\n",
    "                     start_time=start_time, end_time=end_time, ncfile = 'ocean.nc')\n",
    "# more accurately select the right time period and limit to south of 50S:\n",
    "age = age.sel(time=slice(start_time,end_time)).sel(yt_ocean=lat_slice)\n",
    "# remove singleton dimension:\n",
    "age = age.squeeze()"
   ]
  },
  {
   "cell_type": "code",
   "execution_count": 25,
   "metadata": {},
   "outputs": [],
   "source": [
    "# find max age and normalise so that is equal to 1:\n",
    "#age_max = age_mean.max()\n",
    "#age_mean = age_mean / age_max"
   ]
  },
  {
   "cell_type": "markdown",
   "metadata": {},
   "source": [
    "## Method 1:"
   ]
  },
  {
   "cell_type": "code",
   "execution_count": 33,
   "metadata": {},
   "outputs": [
    {
     "name": "stdout",
     "output_type": "stream",
     "text": [
      "CPU times: user 4.53 s, sys: 519 ms, total: 5.05 s\n",
      "Wall time: 5.57 s\n"
     ]
    }
   ],
   "source": [
    "%%time\n",
    "\n",
    "age = cc.querying.getvar(expt,'age_global',master_session,\n",
    "                     start_time=start_time, end_time=end_time, ncfile = 'ocean.nc')\n",
    "# more accurately select the right time period and limit to south of 50S:\n",
    "age = age.sel(time=slice(start_time,end_time)).sel(yt_ocean=lat_slice)\n",
    "# remove singleton dimension:\n",
    "age = age.squeeze()\n",
    "\n",
    "# select out bottom values:\n",
    "depth_array = age * 0 + age.st_ocean\n",
    "max_depth = depth_array.max(dim = 'st_ocean', skipna= True)\n",
    "bottom_age = age.where(depth_array.st_ocean >= max_depth)\n",
    "bottom_age = bottom_age.sum(dim = 'st_ocean')\n",
    "bottom_age = bottom_age.load()"
   ]
  },
  {
   "cell_type": "markdown",
   "metadata": {},
   "source": [
    "## Method 2:"
   ]
  },
  {
   "cell_type": "code",
   "execution_count": 23,
   "metadata": {},
   "outputs": [
    {
     "name": "stderr",
     "output_type": "stream",
     "text": [
      "distributed.utils_perf - WARNING - full garbage collections took 18% CPU time recently (threshold: 10%)\n",
      "distributed.utils_perf - WARNING - full garbage collections took 15% CPU time recently (threshold: 10%)\n",
      "distributed.utils_perf - WARNING - full garbage collections took 14% CPU time recently (threshold: 10%)\n",
      "distributed.utils_perf - WARNING - full garbage collections took 14% CPU time recently (threshold: 10%)\n",
      "distributed.utils_perf - WARNING - full garbage collections took 14% CPU time recently (threshold: 10%)\n",
      "distributed.utils_perf - WARNING - full garbage collections took 14% CPU time recently (threshold: 10%)\n",
      "distributed.utils_perf - WARNING - full garbage collections took 14% CPU time recently (threshold: 10%)\n",
      "distributed.utils_perf - WARNING - full garbage collections took 14% CPU time recently (threshold: 10%)\n",
      "distributed.utils_perf - WARNING - full garbage collections took 14% CPU time recently (threshold: 10%)\n",
      "distributed.utils_perf - WARNING - full garbage collections took 14% CPU time recently (threshold: 10%)\n",
      "distributed.utils_perf - WARNING - full garbage collections took 20% CPU time recently (threshold: 10%)\n",
      "distributed.utils_perf - WARNING - full garbage collections took 21% CPU time recently (threshold: 10%)\n",
      "distributed.utils_perf - WARNING - full garbage collections took 21% CPU time recently (threshold: 10%)\n",
      "distributed.utils_perf - WARNING - full garbage collections took 21% CPU time recently (threshold: 10%)\n",
      "distributed.utils_perf - WARNING - full garbage collections took 21% CPU time recently (threshold: 10%)\n",
      "distributed.utils_perf - WARNING - full garbage collections took 21% CPU time recently (threshold: 10%)\n",
      "distributed.utils_perf - WARNING - full garbage collections took 21% CPU time recently (threshold: 10%)\n",
      "distributed.utils_perf - WARNING - full garbage collections took 22% CPU time recently (threshold: 10%)\n"
     ]
    },
    {
     "name": "stdout",
     "output_type": "stream",
     "text": [
      "CPU times: user 24.4 s, sys: 1.16 s, total: 25.6 s\n",
      "Wall time: 27.7 s\n"
     ]
    }
   ],
   "source": [
    "%%time\n",
    "\n",
    "age = cc.querying.getvar(expt,'age_global',master_session,\n",
    "                     start_time=start_time, end_time=end_time, ncfile = 'ocean.nc')\n",
    "# more accurately select the right time period and limit to south of 50S:\n",
    "age = age.sel(time=slice(start_time,end_time)).sel(yt_ocean=lat_slice)\n",
    "# remove singleton dimension:\n",
    "age = age.squeeze()\n",
    "\n",
    "# bottom cell indices:\n",
    "kmt = cc.querying.getvar(expt,'kmt',master_session, n=-1)\n",
    "kmt = kmt.sel(yt_ocean=lat_slice)\n",
    "kmt = kmt.fillna(1.0).astype(int) - 1\n",
    "kmt.load()\n",
    "\n",
    "bottom_age = age.isel(st_ocean=kmt)\n",
    "bottom_age = bottom_age.load()"
   ]
  },
  {
   "cell_type": "markdown",
   "metadata": {},
   "source": [
    "## Method 2 with loading age first:"
   ]
  },
  {
   "cell_type": "code",
   "execution_count": 24,
   "metadata": {},
   "outputs": [
    {
     "name": "stdout",
     "output_type": "stream",
     "text": [
      "CPU times: user 8.21 s, sys: 1.97 s, total: 10.2 s\n",
      "Wall time: 10.6 s\n"
     ]
    },
    {
     "name": "stderr",
     "output_type": "stream",
     "text": [
      "distributed.utils_perf - WARNING - full garbage collections took 22% CPU time recently (threshold: 10%)\n"
     ]
    }
   ],
   "source": [
    "%%time\n",
    "\n",
    "age = cc.querying.getvar(expt,'age_global',master_session,\n",
    "                     start_time=start_time, end_time=end_time, ncfile = 'ocean.nc')\n",
    "# more accurately select the right time period and limit to south of 50S:\n",
    "age = age.sel(time=slice(start_time,end_time)).sel(yt_ocean=lat_slice)\n",
    "# remove singleton dimension:\n",
    "age = age.squeeze()\n",
    "\n",
    "# bottom cell indices:\n",
    "kmt = cc.querying.getvar(expt,'kmt',master_session, n=-1)\n",
    "kmt = kmt.sel(yt_ocean=lat_slice)\n",
    "kmt = kmt.fillna(1.0).astype(int) - 1\n",
    "kmt.load()\n",
    "\n",
    "age = age.load()\n",
    "bottom_age = age.isel(st_ocean=kmt)\n",
    "bottom_age = bottom_age.load()"
   ]
  },
  {
   "cell_type": "markdown",
   "metadata": {},
   "source": [
    "## Method 3:"
   ]
  },
  {
   "cell_type": "code",
   "execution_count": 31,
   "metadata": {},
   "outputs": [
    {
     "name": "stderr",
     "output_type": "stream",
     "text": [
      "distributed.utils_perf - WARNING - full garbage collections took 22% CPU time recently (threshold: 10%)\n"
     ]
    },
    {
     "name": "stdout",
     "output_type": "stream",
     "text": [
      "CPU times: user 4.67 s, sys: 506 ms, total: 5.18 s\n",
      "Wall time: 5.52 s\n"
     ]
    }
   ],
   "source": [
    "%%time\n",
    "age = cc.querying.getvar(expt,'age_global',master_session,\n",
    "                     start_time=start_time, end_time=end_time, ncfile = 'ocean.nc')\n",
    "# more accurately select the right time period and limit to south of 50S:\n",
    "age = age.sel(time=slice(start_time,end_time)).sel(yt_ocean=lat_slice)\n",
    "# remove singleton dimension:\n",
    "age = age.squeeze()\n",
    "\n",
    "bottom_mask = age.where(~xr.ufuncs.isfinite(age.shift({'st_ocean':-1})))\n",
    "bottom_mask = ~xr.ufuncs.isnan(bottom_mask).to_dataset(name='umask')\n",
    "bottom_age = age.where(bottom_mask.umask).sum('st_ocean')\n",
    "bottom_age = bottom_age.load()"
   ]
  },
  {
   "cell_type": "code",
   "execution_count": null,
   "metadata": {},
   "outputs": [],
   "source": []
  }
 ],
 "metadata": {
  "kernelspec": {
   "display_name": "Python [conda env:analysis3-21.04]",
   "language": "python",
   "name": "conda-env-analysis3-21.04-py"
  },
  "language_info": {
   "codemirror_mode": {
    "name": "ipython",
    "version": 3
   },
   "file_extension": ".py",
   "mimetype": "text/x-python",
   "name": "python",
   "nbconvert_exporter": "python",
   "pygments_lexer": "ipython3",
   "version": "3.8.10"
  }
 },
 "nbformat": 4,
 "nbformat_minor": 4
}
